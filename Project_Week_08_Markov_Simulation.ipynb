{
 "cells": [
  {
   "cell_type": "markdown",
   "id": "42443b0f",
   "metadata": {},
   "source": [
    "# SPICED Academy /// Project Week 08 /// Markov Simulation"
   ]
  },
  {
   "cell_type": "markdown",
   "id": "20881783",
   "metadata": {},
   "source": [
    "***"
   ]
  },
  {
   "cell_type": "markdown",
   "id": "3274e717",
   "metadata": {},
   "source": [
    "## I. Define goal"
   ]
  },
  {
   "cell_type": "markdown",
   "id": "97818bda",
   "metadata": {},
   "source": [
    "***"
   ]
  },
  {
   "cell_type": "markdown",
   "id": "435d9550",
   "metadata": {},
   "source": [
    "## II. Import libraries and data"
   ]
  },
  {
   "cell_type": "code",
   "execution_count": 2,
   "id": "fdec1604",
   "metadata": {},
   "outputs": [],
   "source": [
    "#data processing\n",
    "import pandas as pd\n",
    "import numpy as np\n",
    "\n",
    "#data visualization\n",
    "import seaborn as sns\n",
    "import matplotlib.pyplot as plt\n",
    "\n",
    "#ignore warnings\n",
    "import warnings\n",
    "warnings.filterwarnings('ignore')"
   ]
  },
  {
   "cell_type": "code",
   "execution_count": 13,
   "id": "7565f7a7",
   "metadata": {},
   "outputs": [
    {
     "data": {
      "text/html": [
       "<div>\n",
       "<style scoped>\n",
       "    .dataframe tbody tr th:only-of-type {\n",
       "        vertical-align: middle;\n",
       "    }\n",
       "\n",
       "    .dataframe tbody tr th {\n",
       "        vertical-align: top;\n",
       "    }\n",
       "\n",
       "    .dataframe thead th {\n",
       "        text-align: right;\n",
       "    }\n",
       "</style>\n",
       "<table border=\"1\" class=\"dataframe\">\n",
       "  <thead>\n",
       "    <tr style=\"text-align: right;\">\n",
       "      <th></th>\n",
       "      <th>timestamp</th>\n",
       "      <th>customer_no</th>\n",
       "      <th>location</th>\n",
       "    </tr>\n",
       "  </thead>\n",
       "  <tbody>\n",
       "    <tr>\n",
       "      <th>0</th>\n",
       "      <td>2019-09-02 07:03:00</td>\n",
       "      <td>1</td>\n",
       "      <td>dairy</td>\n",
       "    </tr>\n",
       "    <tr>\n",
       "      <th>1</th>\n",
       "      <td>2019-09-02 07:03:00</td>\n",
       "      <td>2</td>\n",
       "      <td>dairy</td>\n",
       "    </tr>\n",
       "    <tr>\n",
       "      <th>2</th>\n",
       "      <td>2019-09-02 07:04:00</td>\n",
       "      <td>3</td>\n",
       "      <td>dairy</td>\n",
       "    </tr>\n",
       "    <tr>\n",
       "      <th>3</th>\n",
       "      <td>2019-09-02 07:04:00</td>\n",
       "      <td>4</td>\n",
       "      <td>dairy</td>\n",
       "    </tr>\n",
       "    <tr>\n",
       "      <th>4</th>\n",
       "      <td>2019-09-02 07:04:00</td>\n",
       "      <td>5</td>\n",
       "      <td>spices</td>\n",
       "    </tr>\n",
       "  </tbody>\n",
       "</table>\n",
       "</div>"
      ],
      "text/plain": [
       "             timestamp  customer_no location\n",
       "0  2019-09-02 07:03:00            1    dairy\n",
       "1  2019-09-02 07:03:00            2    dairy\n",
       "2  2019-09-02 07:04:00            3    dairy\n",
       "3  2019-09-02 07:04:00            4    dairy\n",
       "4  2019-09-02 07:04:00            5   spices"
      ]
     },
     "execution_count": 13,
     "metadata": {},
     "output_type": "execute_result"
    }
   ],
   "source": [
    "#import relevant data\n",
    "mon = pd.read_csv('data/monday.csv', sep = ';')\n",
    "tue = pd.read_csv('data/tuesday.csv', sep = ';')\n",
    "wed = pd.read_csv('data/wednesday.csv', sep = ';')\n",
    "thur = pd.read_csv('data/thursday.csv', sep = ';')\n",
    "fri = pd.read_csv('data/friday.csv', sep = ';')\n",
    "\n",
    "#check imported data \n",
    "mon.head()"
   ]
  },
  {
   "cell_type": "code",
   "execution_count": 14,
   "id": "78af3aa9",
   "metadata": {},
   "outputs": [],
   "source": [
    "#define global variable for each day\n",
    "DAY = mon"
   ]
  },
  {
   "cell_type": "markdown",
   "id": "861e6c59",
   "metadata": {},
   "source": [
    "***"
   ]
  },
  {
   "cell_type": "markdown",
   "id": "b87c1cdc",
   "metadata": {},
   "source": [
    "## III. Exploratory Data Analysis"
   ]
  },
  {
   "cell_type": "markdown",
   "id": "e3221619",
   "metadata": {},
   "source": [
    "*Total number of customers in each section*"
   ]
  },
  {
   "cell_type": "code",
   "execution_count": 15,
   "id": "1d7e2a5d",
   "metadata": {},
   "outputs": [],
   "source": [
    "def num_cust_each_section(DAY):\n",
    "    'returns the total number of customers for each section'\n",
    "    total_number = DAY['location'].value_counts()\n",
    "    return total_number"
   ]
  },
  {
   "cell_type": "code",
   "execution_count": 16,
   "id": "1d0f3e25",
   "metadata": {
    "scrolled": false
   },
   "outputs": [
    {
     "name": "stdout",
     "output_type": "stream",
     "text": [
      "checkout    1437\n",
      "fruit       1005\n",
      "dairy        895\n",
      "drinks       797\n",
      "spices       750\n",
      "Name: location, dtype: int64\n"
     ]
    }
   ],
   "source": [
    "#print the total number of customers for a predefined day\n",
    "print(num_cust_each_section(DAY))"
   ]
  },
  {
   "cell_type": "markdown",
   "id": "5bf3be43",
   "metadata": {},
   "source": [
    "***"
   ]
  },
  {
   "cell_type": "markdown",
   "id": "ee6ea1b1",
   "metadata": {},
   "source": [
    "*Calculate the total number of customers in each section over time*"
   ]
  },
  {
   "cell_type": "code",
   "execution_count": null,
   "id": "f4125c5a",
   "metadata": {},
   "outputs": [],
   "source": [
    "groupby(DAY['location'])"
   ]
  },
  {
   "cell_type": "code",
   "execution_count": null,
   "id": "47574835",
   "metadata": {},
   "outputs": [],
   "source": []
  },
  {
   "cell_type": "code",
   "execution_count": null,
   "id": "3cfa1b1d",
   "metadata": {},
   "outputs": [],
   "source": []
  },
  {
   "cell_type": "code",
   "execution_count": null,
   "id": "5c9b1963",
   "metadata": {},
   "outputs": [],
   "source": []
  },
  {
   "cell_type": "code",
   "execution_count": null,
   "id": "d38cb2e5",
   "metadata": {},
   "outputs": [],
   "source": []
  },
  {
   "cell_type": "markdown",
   "id": "6ee72ae0",
   "metadata": {},
   "source": [
    "## Transition probabilities "
   ]
  },
  {
   "cell_type": "markdown",
   "id": "fc338062",
   "metadata": {},
   "source": [
    "*State diagram*"
   ]
  },
  {
   "cell_type": "markdown",
   "id": "22125000",
   "metadata": {},
   "source": [
    "*Display the transition probability matrix*"
   ]
  },
  {
   "cell_type": "markdown",
   "id": "d40e3d40",
   "metadata": {},
   "source": [
    "*Visualize the probabilities as a heat map*"
   ]
  },
  {
   "cell_type": "code",
   "execution_count": null,
   "id": "492a6a4e",
   "metadata": {},
   "outputs": [],
   "source": [
    "#calculating probabilities \n",
    "pd.crosstab(df['before'], df['after'], normalize=0)"
   ]
  },
  {
   "cell_type": "markdown",
   "id": "c71f2bd7",
   "metadata": {},
   "source": [
    "***"
   ]
  },
  {
   "cell_type": "markdown",
   "id": "3603987d",
   "metadata": {},
   "source": [
    "## Monte Carlo Markov Chain"
   ]
  },
  {
   "cell_type": "markdown",
   "id": "a7b4b8cb",
   "metadata": {},
   "source": [
    "***"
   ]
  },
  {
   "cell_type": "markdown",
   "id": "49c3e81d",
   "metadata": {},
   "source": [
    "## CSV Output"
   ]
  },
  {
   "cell_type": "code",
   "execution_count": null,
   "id": "c899ec01",
   "metadata": {},
   "outputs": [],
   "source": []
  }
 ],
 "metadata": {
  "kernelspec": {
   "display_name": "Python 3",
   "language": "python",
   "name": "python3"
  },
  "language_info": {
   "codemirror_mode": {
    "name": "ipython",
    "version": 3
   },
   "file_extension": ".py",
   "mimetype": "text/x-python",
   "name": "python",
   "nbconvert_exporter": "python",
   "pygments_lexer": "ipython3",
   "version": "3.8.8"
  }
 },
 "nbformat": 4,
 "nbformat_minor": 5
}
