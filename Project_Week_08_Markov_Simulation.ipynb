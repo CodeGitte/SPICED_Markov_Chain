{
 "cells": [
  {
   "cell_type": "markdown",
   "id": "d36d2545",
   "metadata": {},
   "source": [
    "# SPICED Academy /// Project Week 08 /// Markov Simulation"
   ]
  },
  {
   "cell_type": "markdown",
   "id": "8f606e15",
   "metadata": {},
   "source": [
    "***"
   ]
  },
  {
   "cell_type": "markdown",
   "id": "9030e427",
   "metadata": {},
   "source": [
    "## I. Define goal"
   ]
  },
  {
   "cell_type": "markdown",
   "id": "1e049eb5",
   "metadata": {},
   "source": [
    "***"
   ]
  },
  {
   "cell_type": "markdown",
   "id": "02341c59",
   "metadata": {},
   "source": [
    "## II. Import libraries and data"
   ]
  },
  {
   "cell_type": "markdown",
   "id": "3047c56f",
   "metadata": {},
   "source": [
    "***"
   ]
  },
  {
   "cell_type": "code",
   "execution_count": null,
   "id": "f0490cf4",
   "metadata": {},
   "outputs": [],
   "source": []
  },
  {
   "cell_type": "code",
   "execution_count": null,
   "id": "640e0700",
   "metadata": {},
   "outputs": [],
   "source": []
  }
 ],
 "metadata": {
  "kernelspec": {
   "display_name": "Python 3",
   "language": "python",
   "name": "python3"
  },
  "language_info": {
   "codemirror_mode": {
    "name": "ipython",
    "version": 3
   },
   "file_extension": ".py",
   "mimetype": "text/x-python",
   "name": "python",
   "nbconvert_exporter": "python",
   "pygments_lexer": "ipython3",
   "version": "3.8.8"
  }
 },
 "nbformat": 4,
 "nbformat_minor": 5
}
